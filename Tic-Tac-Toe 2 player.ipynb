{
 "cells": [
  {
   "cell_type": "code",
   "execution_count": 1,
   "metadata": {},
   "outputs": [],
   "source": [
    "def currentstate():\n",
    "    \n",
    "    from IPython.display import clear_output\n",
    "    clear_output()\n",
    "        \n",
    "    print('   |   |')\n",
    "    print(' '+gamestate[0][0]+' | '+gamestate[0][1]+' | '+gamestate[0][2])\n",
    "    print('___|___|___')\n",
    "    print('   |   |')\n",
    "    print(' '+gamestate[1][0]+' | '+gamestate[1][1]+' | '+gamestate[1][2])\n",
    "    print('___|___|___')\n",
    "    print('   |   |')\n",
    "    print(' '+gamestate[2][0]+' | '+gamestate[2][1]+' | '+gamestate[2][2])\n",
    "    print('   |   |')"
   ]
  },
  {
   "cell_type": "code",
   "execution_count": 2,
   "metadata": {},
   "outputs": [],
   "source": [
    "def haswon():\n",
    "    win = False\n",
    "    \n",
    "    #Row and column check\n",
    "    for n in range (0,3):\n",
    "        if gamestate[n][0] == gamestate[n][1] and gamestate[n][0] == gamestate[n][2] and gamestate[n][0]!=\" \":\n",
    "            win = True\n",
    "        if gamestate[0][n] == gamestate[1][n] and gamestate[0][n] == gamestate[2][n] and gamestate[0][n]!=\" \":\n",
    "            win = True\n",
    "    \n",
    "    #Diagonal check\n",
    "    if gamestate[0][0] == gamestate[1][1] and gamestate[0][0] == gamestate[2][2] and gamestate[0][0]!=\" \":\n",
    "            win = True\n",
    "    elif gamestate[0][2] == gamestate[1][1] and gamestate[0][2] == gamestate[2][0] and gamestate[0][2]!=\" \":\n",
    "            win = True\n",
    "    \n",
    "    return win"
   ]
  },
  {
   "cell_type": "code",
   "execution_count": 3,
   "metadata": {},
   "outputs": [],
   "source": [
    "def istie():\n",
    "    tie = True\n",
    "    \n",
    "    #Row and column check\n",
    "    for i in range (0,3):\n",
    "        for j in range (0,3):\n",
    "            if gamestate[i][j]==' ':\n",
    "                tie = False\n",
    "                \n",
    "    return tie"
   ]
  },
  {
   "cell_type": "code",
   "execution_count": 4,
   "metadata": {},
   "outputs": [
    {
     "name": "stdout",
     "output_type": "stream",
     "text": [
      "   |   |\n",
      " X | O | X\n",
      "___|___|___\n",
      "   |   |\n",
      " O | O | X\n",
      "___|___|___\n",
      "   |   |\n",
      " X | X | O\n",
      "   |   |\n",
      "\n",
      "That's a stalemate!\n",
      "\n",
      "Want to play again? Y/N: n\n",
      "\n",
      "Exiting game.\n"
     ]
    }
   ],
   "source": [
    "cont = 'Y'\n",
    "\n",
    "while cont == 'Y' or cont == 'y':\n",
    "    gamestate = [[\" \",\" \",\" \"],[\" \",\" \",\" \"],[\" \",\" \",\" \"]]\n",
    "\n",
    "    player1 = input('Player 1, do you want to be X or O: ').upper()\n",
    "\n",
    "    while (player1 != 'X' and player1 != 'O'):\n",
    "        player1 = input('Player 1, pls enter only X or O: ').upper()\n",
    "\n",
    "    if player1=='X':\n",
    "        player2='O'\n",
    "    else:\n",
    "        player2='X'\n",
    "    turn = 0\n",
    "\n",
    "    #Keep the game going so long as no one has won\n",
    "    while not haswon() and not istie():\n",
    "\n",
    "        turn+=1\n",
    "\n",
    "        #Print the current status\n",
    "        currentstate()\n",
    "\n",
    "        #Get current player's next move\n",
    "        next = int(input('Your turn, Player'+str(2-turn%2)+\"\\nChoose a square (1-9): \"))-1\n",
    "        i=int(next/3)\n",
    "        j=next%3\n",
    "\n",
    "        #If chosen square is occupied, ask for another selection until an empty square is chosen\n",
    "        while gamestate[i][j]!=' ':\n",
    "            next = int(input('That is taken, Player'+str(2-turn%2)+'. Choose another square (1-9): '))-1\n",
    "            i=int(next/3)\n",
    "            j=next%3\n",
    "\n",
    "        #Update the board with the player's move\n",
    "        if turn%2==0:\n",
    "            gamestate[i][j]=player2\n",
    "        else:\n",
    "            gamestate[i][j]=player1\n",
    "\n",
    "\n",
    "    #If someone has won or it's a tie, end the game\n",
    "    else:\n",
    "\n",
    "        #Print the current status\n",
    "        currentstate()\n",
    "        \n",
    "        if haswon():\n",
    "            print('Congratulations Player'+str(2-turn%2)+'! You have won')\n",
    "        elif istie():\n",
    "            print('\\nThat\\'s a stalemate!')\n",
    "        cont = input('\\nWant to play again? Y/N: ')\n",
    "\n",
    "else:\n",
    "    print('\\nExiting game.')\n",
    "    "
   ]
  },
  {
   "cell_type": "code",
   "execution_count": null,
   "metadata": {},
   "outputs": [],
   "source": []
  }
 ],
 "metadata": {
  "kernelspec": {
   "display_name": "Python 3",
   "language": "python",
   "name": "python3"
  },
  "language_info": {
   "codemirror_mode": {
    "name": "ipython",
    "version": 3
   },
   "file_extension": ".py",
   "mimetype": "text/x-python",
   "name": "python",
   "nbconvert_exporter": "python",
   "pygments_lexer": "ipython3",
   "version": "3.7.4"
  }
 },
 "nbformat": 4,
 "nbformat_minor": 2
}
